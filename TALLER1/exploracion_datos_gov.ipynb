{
 "cells": [
  {
   "cell_type": "markdown",
   "id": "716af90a",
   "metadata": {},
   "source": []
  },
  {
   "cell_type": "markdown",
   "id": "15284285",
   "metadata": {},
   "source": []
  },
  {
   "cell_type": "markdown",
   "id": "70162290",
   "metadata": {},
   "source": []
  },
  {
   "cell_type": "markdown",
   "id": "3252b35e",
   "metadata": {},
   "source": []
  }
 ],
 "metadata": {
  "language_info": {
   "name": "python"
  }
 },
 "nbformat": 4,
 "nbformat_minor": 5
}
